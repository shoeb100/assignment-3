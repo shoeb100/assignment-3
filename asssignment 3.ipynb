{
 "cells": [
  {
   "cell_type": "markdown",
   "id": "a54c9245-24b8-4156-b56b-d5cdf6b90a56",
   "metadata": {
    "tags": []
   },
   "source": [
    "#python keywords and its examples\n",
    "Python Keywords are some predefined and reserved words in Python that have special meanings. Keywords are used to define the syntax of the coding. All the keywords in Python are written in lowercase except True and False. \n",
    "exxample if,and, else , elif, true, false."
   ]
  },
  {
   "cell_type": "markdown",
   "id": "41da72c9-1fde-4df2-a259-74396e2a8fd7",
   "metadata": {},
   "source": [
    "#rules for defining identifiers in Python\n",
    "identifier is nothing but a name in python programing. it can be class name, function name, variable name , module name.\n",
    "rules\n",
    "-allowed character\n",
    "1. alphabet uppercase or lowercase\n",
    "2. digits \n",
    "3. undescore\n",
    "-it should not start with digit\n",
    "-it is case sensitive\n",
    "-we cannot use keyords"
   ]
  },
  {
   "cell_type": "markdown",
   "id": "4681ce06-6322-49cc-ada5-5cb38a0e86bb",
   "metadata": {},
   "source": [
    "#coments in python\n",
    "it is a ignorable part of python program that is ignored by interpretor.\n",
    "Comments in Python are identified with a hash symbol(#)\n",
    "Comments in Python provide numerous advantages. Their primary benefits include:\n",
    "\n",
    "-Makes the code easily understandable by other programmers\n",
    "-The code becomes self-explanatory\n",
    "-Helps remember why we used a specific command, method, or function in the code\n",
    "-Enables the interpreter to ignore some part of the code while testing.\n",
    "\n"
   ]
  },
  {
   "cell_type": "code",
   "execution_count": 3,
   "id": "7c7d7dc8-b1cc-4f1f-9c78-f2d43b964c78",
   "metadata": {},
   "outputs": [
    {
     "data": {
      "text/plain": [
       "3"
      ]
     },
     "execution_count": 3,
     "metadata": {},
     "output_type": "execute_result"
    }
   ],
   "source": [
    "#example \n",
    "a=3\n",
    "#above we are assigning value three to a and this is a comment. \n",
    "a"
   ]
  },
  {
   "cell_type": "markdown",
   "id": "4cac42f3-e945-42a7-8a48-50046b1cc091",
   "metadata": {},
   "source": [
    "#proper indentation in  Python\n",
    "Indentation refers to the spaces at the beginning of a code line.Python uses indentation to indicate a block of code.\n"
   ]
  },
  {
   "cell_type": "code",
   "execution_count": 4,
   "id": "2d11709c-2c2f-4004-812b-fe01f098dd1e",
   "metadata": {},
   "outputs": [
    {
     "name": "stdout",
     "output_type": "stream",
     "text": [
      "Five is greater than two!\n"
     ]
    }
   ],
   "source": [
    "#example\n",
    "if 5 > 2:\n",
    "  print(\"Five is greater than two!\")"
   ]
  },
  {
   "cell_type": "code",
   "execution_count": 5,
   "id": "31866ba7-4fa2-4a23-bd5e-f220a7539db1",
   "metadata": {},
   "outputs": [
    {
     "ename": "IndentationError",
     "evalue": "expected an indented block after 'if' statement on line 2 (2654373633.py, line 3)",
     "output_type": "error",
     "traceback": [
      "\u001b[0;36m  Cell \u001b[0;32mIn[5], line 3\u001b[0;36m\u001b[0m\n\u001b[0;31m    print(\"Five is greater than two!\")\u001b[0m\n\u001b[0m    ^\u001b[0m\n\u001b[0;31mIndentationError\u001b[0m\u001b[0;31m:\u001b[0m expected an indented block after 'if' statement on line 2\n"
     ]
    }
   ],
   "source": [
    "#Python will give you an error if you skip the indentation:\n",
    "if 5 > 2:\n",
    "print(\"Five is greater than two!\")"
   ]
  },
  {
   "cell_type": "markdown",
   "id": "0e85aeea-9ade-437b-8e28-ac33e2da753d",
   "metadata": {},
   "source": [
    "#Differentiate between expression and statement in PythonAn \n",
    "-Expression is a sequence or combination of values, variables, operators and function calls that always produces or returns a result value\n",
    "-A Statement is the smallest executable unit of code that has an effect, like creating a variable or displaying a value.\n",
    "Each and every line of code that we write in any programming language is called a statement.\n",
    "Because, all the lines are executable by the interpreter or the compiler of that programming language."
   ]
  },
  {
   "cell_type": "code",
   "execution_count": 6,
   "id": "aa529b57-f7c4-4bfb-a96c-4987d9541ba7",
   "metadata": {},
   "outputs": [],
   "source": [
    "#expression\n",
    "x=3"
   ]
  },
  {
   "cell_type": "code",
   "execution_count": 10,
   "id": "71c378ea-5cfc-4942-9ae9-7caf991420c5",
   "metadata": {},
   "outputs": [
    {
     "name": "stdout",
     "output_type": "stream",
     "text": [
      "Hello welcome to Python\n"
     ]
    }
   ],
   "source": [
    "#statement\n",
    "\n",
    "\n",
    "\n",
    "print( 'Hello',\n",
    "'welcome',\n",
    "'to Python')\n"
   ]
  },
  {
   "cell_type": "code",
   "execution_count": null,
   "id": "e0f64b89-57fd-44ce-b665-70f21ad07834",
   "metadata": {},
   "outputs": [],
   "source": []
  }
 ],
 "metadata": {
  "kernelspec": {
   "display_name": "Python 3 (ipykernel)",
   "language": "python",
   "name": "python3"
  },
  "language_info": {
   "codemirror_mode": {
    "name": "ipython",
    "version": 3
   },
   "file_extension": ".py",
   "mimetype": "text/x-python",
   "name": "python",
   "nbconvert_exporter": "python",
   "pygments_lexer": "ipython3",
   "version": "3.10.8"
  }
 },
 "nbformat": 4,
 "nbformat_minor": 5
}
